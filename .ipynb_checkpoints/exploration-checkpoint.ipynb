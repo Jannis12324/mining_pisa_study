{
 "cells": [
  {
   "cell_type": "markdown",
   "metadata": {},
   "source": [
    "# mining_pisa_data\n",
    "## by Jannis Jehmlich\n",
    "\n",
    "## Preliminary Wrangling"
   ]
  },
  {
   "cell_type": "code",
   "execution_count": 49,
   "metadata": {},
   "outputs": [],
   "source": [
    "# import all packages and set plots to be embedded inline\n",
    "import numpy as np\n",
    "import pandas as pd\n",
    "import matplotlib.pyplot as plt\n",
    "import seaborn as sb\n",
    "\n",
    "%matplotlib inline"
   ]
  },
  {
   "cell_type": "markdown",
   "metadata": {},
   "source": [
    "#### Interesting columns:\n",
    "In a first inspection of the dataframe the shape revealed 636 columns. To reduce the complexity in the analysis and speed up the analysis I identified key columns on which I will focus.\n",
    "I mainly focused on the maths grades as well as how homework and the parents influence the scores.\n",
    "\n",
    "\n",
    " - STIDSTD: Student ID\n",
    " - ST01Q01: International Grade\n",
    " - ST03Q01: Birth - Month\n",
    " - PARED: Highest parental education in years\n",
    " - OUTHOURS: Out-of-School Study Time\n",
    " - MISCED: Educational level of mother (ISCED)\n",
    " - FISCED: Educational level of father (ISCED)\n",
    " - MTSUP: Mathematics Teacher's Support\n",
    " - MMINS: Learning time (minutes per week)- Mathematics\n",
    " - HISCED: Highest educational level of parents\n",
    " - HEDRES: Home educational resources\n",
    " - FAILMAT: Attributions to Failure in Mathematics\n",
    " - AGE: Age of student\n",
    " - IC09Q06: Out-of-school 9 - Homework\n",
    " - ST89Q04: Attitude toward School - Enjoy Good Grades\n",
    " - ST89Q03: Attitude toward School - Prepare for College\n",
    " - ST89Q05: Attitude toward School - Trying Hard is Important\n",
    " - ST88Q04: Attitude towards School - Useful for Job\n",
    " - ST88Q03: Attitude towards School - Gave Me Confidence\n",
    " - ST88Q02: Attitude towards School - Waste of Time\n",
    " - ST88Q01: Attitude towards School - Does Little to Prepare Me for Life\n",
    " - ST70Q02: No of class period p/wk - Maths\n",
    " - ST69Q02: Min in class period - Maths\n",
    " - ST57Q01: Out-of-School Study Time - Homework\n",
    " - ST57Q05: Out-of-School Study Time - With Parent\n",
    " - ST57Q02: Out-of-School Study Time - Guided Homework\n",
    " - ST57Q04: Out-of-School Study Time - Commercial Company\n",
    " - ST57Q03: Out-of-School Study Time - Personal Tutor\n",
    " - ST35Q04: Subjective Norms - Parents Believe Studying Mathematics Is Important\n",
    " - ST35Q05: Subjective Norms - Parents Believe Mathematics Is Important for Career\n",
    " - ST35Q06: Subjective Norms - Parents Like Mathematics\n",
    " - PV1MATH: Plausible value 1 in mathematics\n",
    " - PV2MATH: Plausible value 2 in mathematics\n",
    " - PV3MATH: Plausible value 3 in mathematics\n",
    " - PV4MATH: Plausible value 4 in mathematics\n",
    " - PV5MATH: Plausible value 5 in mathematics"
   ]
  },
  {
   "cell_type": "code",
   "execution_count": 50,
   "metadata": {},
   "outputs": [],
   "source": [
    "\n",
    "cols_of_interest = [\"CNT\",\n",
    "\"NC\",             \n",
    "\"STIDSTD\",\n",
    "\"ST01Q01\",\n",
    "\"ST03Q01\",\n",
    "\"PARED\",\n",
    "\"OUTHOURS\",\n",
    "\"MISCED\",\n",
    "\"FISCED\",\n",
    "\"MTSUP\",\n",
    "\"MMINS\",\n",
    "\"HISCED\",\n",
    "\"HEDRES\",\n",
    "\"FAILMAT\",\n",
    "\"AGE\",\n",
    "\"IC09Q06\",\n",
    "                    \n",
    "\"ST89Q03\", #Attitude toward school\n",
    "\"ST89Q04\",\n",
    "\"ST89Q05\",\n",
    "\"ST88Q04\",\n",
    "\"ST88Q03\",\n",
    "\"ST88Q02\",\n",
    "\"ST88Q01\",\n",
    "                    \n",
    "\"ST70Q02\",\n",
    "\"ST69Q02\",\n",
    "                    \n",
    "\"ST57Q05\", # out of school study time\n",
    "\"ST57Q01\",\n",
    "\"ST57Q02\",\n",
    "\"ST57Q03\",\n",
    "\"ST57Q04\",\n",
    "\"ST35Q04\",\n",
    "\"ST35Q05\",\n",
    "\"ST35Q06\",\n",
    "                    \n",
    "\"PV1MATH\", # Math test scores\n",
    "\"PV2MATH\",\n",
    "\"PV3MATH\",\n",
    "\"PV4MATH\",\n",
    "\"PV5MATH\"]"
   ]
  },
  {
   "cell_type": "code",
   "execution_count": 51,
   "metadata": {},
   "outputs": [],
   "source": [
    "#df = pd.read_csv(\"pisa2012.csv\", encoding = \"latin-1\", dtype='unicode', index_col = False)\n",
    "df = pd.read_csv(\"pisa2012.csv\", encoding = \"latin-1\", dtype='unicode', index_col = False, usecols = cols_of_interest)"
   ]
  },
  {
   "cell_type": "code",
   "execution_count": 52,
   "metadata": {},
   "outputs": [
    {
     "data": {
      "text/html": [
       "<div>\n",
       "<style scoped>\n",
       "    .dataframe tbody tr th:only-of-type {\n",
       "        vertical-align: middle;\n",
       "    }\n",
       "\n",
       "    .dataframe tbody tr th {\n",
       "        vertical-align: top;\n",
       "    }\n",
       "\n",
       "    .dataframe thead th {\n",
       "        text-align: right;\n",
       "    }\n",
       "</style>\n",
       "<table border=\"1\" class=\"dataframe\">\n",
       "  <thead>\n",
       "    <tr style=\"text-align: right;\">\n",
       "      <th></th>\n",
       "      <th>CNT</th>\n",
       "      <th>NC</th>\n",
       "      <th>STIDSTD</th>\n",
       "      <th>ST01Q01</th>\n",
       "      <th>ST03Q01</th>\n",
       "      <th>ST35Q04</th>\n",
       "      <th>ST35Q05</th>\n",
       "      <th>ST35Q06</th>\n",
       "      <th>ST57Q01</th>\n",
       "      <th>ST57Q02</th>\n",
       "      <th>...</th>\n",
       "      <th>MISCED</th>\n",
       "      <th>MMINS</th>\n",
       "      <th>MTSUP</th>\n",
       "      <th>OUTHOURS</th>\n",
       "      <th>PARED</th>\n",
       "      <th>PV1MATH</th>\n",
       "      <th>PV2MATH</th>\n",
       "      <th>PV3MATH</th>\n",
       "      <th>PV4MATH</th>\n",
       "      <th>PV5MATH</th>\n",
       "    </tr>\n",
       "  </thead>\n",
       "  <tbody>\n",
       "    <tr>\n",
       "      <th>0</th>\n",
       "      <td>Albania</td>\n",
       "      <td>Albania</td>\n",
       "      <td>00001</td>\n",
       "      <td>10</td>\n",
       "      <td>02</td>\n",
       "      <td>Agree</td>\n",
       "      <td>Agree</td>\n",
       "      <td>Agree</td>\n",
       "      <td>NaN</td>\n",
       "      <td>NaN</td>\n",
       "      <td>...</td>\n",
       "      <td>ISCED 3A, ISCED 4</td>\n",
       "      <td>NaN</td>\n",
       "      <td>-0.9508</td>\n",
       "      <td>NaN</td>\n",
       "      <td>12</td>\n",
       "      <td>406.8469</td>\n",
       "      <td>376.4683</td>\n",
       "      <td>344.5319</td>\n",
       "      <td>321.1637</td>\n",
       "      <td>381.9209</td>\n",
       "    </tr>\n",
       "  </tbody>\n",
       "</table>\n",
       "<p>1 rows × 38 columns</p>\n",
       "</div>"
      ],
      "text/plain": [
       "       CNT       NC STIDSTD ST01Q01 ST03Q01 ST35Q04 ST35Q05 ST35Q06 ST57Q01  \\\n",
       "0  Albania  Albania   00001      10      02   Agree   Agree   Agree     NaN   \n",
       "\n",
       "  ST57Q02  ...             MISCED MMINS    MTSUP OUTHOURS PARED   PV1MATH  \\\n",
       "0     NaN  ...  ISCED 3A, ISCED 4   NaN  -0.9508      NaN    12  406.8469   \n",
       "\n",
       "    PV2MATH   PV3MATH   PV4MATH   PV5MATH  \n",
       "0  376.4683  344.5319  321.1637  381.9209  \n",
       "\n",
       "[1 rows x 38 columns]"
      ]
     },
     "execution_count": 52,
     "metadata": {},
     "output_type": "execute_result"
    }
   ],
   "source": [
    "df.head(1)"
   ]
  },
  {
   "cell_type": "code",
   "execution_count": 53,
   "metadata": {},
   "outputs": [
    {
     "data": {
      "text/plain": [
       "(485490, 38)"
      ]
     },
     "execution_count": 53,
     "metadata": {},
     "output_type": "execute_result"
    }
   ],
   "source": [
    "df.shape"
   ]
  },
  {
   "cell_type": "code",
   "execution_count": 54,
   "metadata": {},
   "outputs": [
    {
     "name": "stdout",
     "output_type": "stream",
     "text": [
      "<class 'pandas.core.frame.DataFrame'>\n",
      "RangeIndex: 485490 entries, 0 to 485489\n",
      "Data columns (total 38 columns):\n",
      "CNT         485490 non-null object\n",
      "NC          485490 non-null object\n",
      "STIDSTD     485490 non-null object\n",
      "ST01Q01     485490 non-null object\n",
      "ST03Q01     485490 non-null object\n",
      "ST35Q04     315160 non-null object\n",
      "ST35Q05     314843 non-null object\n",
      "ST35Q06     313389 non-null object\n",
      "ST57Q01     301367 non-null object\n",
      "ST57Q02     269808 non-null object\n",
      "ST57Q03     283813 non-null object\n",
      "ST57Q04     279657 non-null object\n",
      "ST57Q05     289502 non-null object\n",
      "ST69Q02     298601 non-null object\n",
      "ST70Q02     298339 non-null object\n",
      "ST88Q01     311250 non-null object\n",
      "ST88Q02     310964 non-null object\n",
      "ST88Q03     310980 non-null object\n",
      "ST88Q04     311371 non-null object\n",
      "ST89Q03     311233 non-null object\n",
      "ST89Q04     311243 non-null object\n",
      "ST89Q05     311138 non-null object\n",
      "IC09Q06     291982 non-null object\n",
      "AGE         485374 non-null object\n",
      "FAILMAT     314448 non-null object\n",
      "FISCED      452903 non-null object\n",
      "HEDRES      477772 non-null object\n",
      "HISCED      473091 non-null object\n",
      "MISCED      467085 non-null object\n",
      "MMINS       283303 non-null object\n",
      "MTSUP       313599 non-null object\n",
      "OUTHOURS    308799 non-null object\n",
      "PARED       473091 non-null object\n",
      "PV1MATH     485490 non-null object\n",
      "PV2MATH     485490 non-null object\n",
      "PV3MATH     485490 non-null object\n",
      "PV4MATH     485490 non-null object\n",
      "PV5MATH     485490 non-null object\n",
      "dtypes: object(38)\n",
      "memory usage: 140.8+ MB\n"
     ]
    }
   ],
   "source": [
    "df.info()"
   ]
  },
  {
   "cell_type": "markdown",
   "metadata": {},
   "source": [
    "All columns are strings. While this makes sense for some, others should be floats."
   ]
  },
  {
   "cell_type": "code",
   "execution_count": 68,
   "metadata": {},
   "outputs": [
    {
     "data": {
      "text/plain": [
       "Agree                153181\n",
       "Strongly agree       124825\n",
       "Disagree              24735\n",
       "Strongly disagree      8630\n",
       "Name: ST88Q04, dtype: int64"
      ]
     },
     "execution_count": 68,
     "metadata": {},
     "output_type": "execute_result"
    }
   ],
   "source": [
    "df.ST88Q04.value_counts()"
   ]
  },
  {
   "cell_type": "code",
   "execution_count": 75,
   "metadata": {},
   "outputs": [
    {
     "name": "stdout",
     "output_type": "stream",
     "text": [
      "nan\n",
      "nan\n",
      "nan\n",
      "nan\n"
     ]
    }
   ],
   "source": [
    "print(df.ST88Q04[2])\n",
    "print(df.ST88Q02[1])\n",
    "print(df.ST88Q03[1])\n",
    "print(df.ST88Q01[1])"
   ]
  },
  {
   "cell_type": "code",
   "execution_count": 76,
   "metadata": {},
   "outputs": [],
   "source": [
    "# convert the attitude towwards school columns into ordered categorical types\n",
    "attitude_cols = [\"ST89Q03\", \"ST89Q04\",\n",
    "\"ST89Q05\",\"ST88Q04\",\"ST88Q03\",\"ST88Q02\",\"ST88Q01\"]\n",
    "order = [\"Strongly disagree\", \"Disagree\", \"Agree\", \"Strongly agree\"]\n",
    "ordered_var = pd.api.types.CategoricalDtype(ordered = True, categories = order)\n",
    "for col in attitude_cols:\n",
    "    df[col] = df[col].astype(ordered_var)"
   ]
  },
  {
   "cell_type": "code",
   "execution_count": 56,
   "metadata": {},
   "outputs": [],
   "source": [
    "float_cols = [\"PV1MATH\",\n",
    "\"PV2MATH\",\n",
    "\"PV3MATH\",\n",
    "\"PV4MATH\",\n",
    "\"PV5MATH\",\n",
    "\"AGE\",\n",
    "\"ST01Q01\",\n",
    "\"PARED\",\n",
    "\"MMINS\",\n",
    "\"OUTHOURS\",\n",
    "\"MTSUP\"]\n",
    "# Converting the numerical columns into floats\n",
    "for col in float_cols:\n",
    "    df[col] = df[col].astype(float)"
   ]
  },
  {
   "cell_type": "code",
   "execution_count": 57,
   "metadata": {},
   "outputs": [
    {
     "data": {
      "text/plain": [
       "381.9209"
      ]
     },
     "execution_count": 57,
     "metadata": {},
     "output_type": "execute_result"
    }
   ],
   "source": [
    "df.PV5MATH[0]"
   ]
  },
  {
   "cell_type": "code",
   "execution_count": 58,
   "metadata": {},
   "outputs": [],
   "source": [
    "# Some column names are very non-descript and are changed:\n",
    "names = {\"PV1MATH\": \"MathResult1\",\"PV2MATH\": \"MathResult2\",\"PV3MATH\": \"MathResult3\",\n",
    "         \"PV4MATH\": \"MathResult4\",\"PV5MATH\": \"MathResult5\",\"MISCED\": \"ed_lvl_mum\",\n",
    "         \"FISCED\": \"ed_lvl_dad\"\n",
    "        }\n",
    "df.rename(columns = names, inplace = True)"
   ]
  },
  {
   "cell_type": "code",
   "execution_count": 30,
   "metadata": {},
   "outputs": [
    {
     "name": "stdout",
     "output_type": "stream",
     "text": [
      "<class 'pandas.core.frame.DataFrame'>\n",
      "RangeIndex: 485490 entries, 0 to 485489\n",
      "Data columns (total 35 columns):\n",
      "CNT            485490 non-null object\n",
      "NC             485490 non-null object\n",
      "STIDSTD        485490 non-null object\n",
      "ST01Q01        485490 non-null float64\n",
      "ST03Q01        485490 non-null object\n",
      "ST35Q04        315160 non-null object\n",
      "ST35Q05        314843 non-null object\n",
      "ST35Q06        313389 non-null object\n",
      "ST57Q01        301367 non-null object\n",
      "ST57Q02        269808 non-null object\n",
      "ST57Q03        283813 non-null object\n",
      "ST57Q04        279657 non-null object\n",
      "ST57Q05        289502 non-null object\n",
      "ST69Q02        298601 non-null object\n",
      "ST70Q02        298339 non-null object\n",
      "ST88Q01        311250 non-null object\n",
      "ST88Q02        310964 non-null object\n",
      "ST89Q03        311233 non-null object\n",
      "ST89Q05        311138 non-null object\n",
      "IC09Q06        291982 non-null object\n",
      "AGE            485374 non-null float64\n",
      "FAILMAT        314448 non-null object\n",
      "ed_lvl_dad     452903 non-null object\n",
      "HEDRES         477772 non-null object\n",
      "HISCED         473091 non-null object\n",
      "ed_lvl_mum     467085 non-null object\n",
      "MMINS          283303 non-null float64\n",
      "MTSUP          313599 non-null object\n",
      "OUTHOURS       308799 non-null float64\n",
      "PARED          473091 non-null float64\n",
      "MathResult1    485490 non-null float64\n",
      "MathResult2    485490 non-null float64\n",
      "MathResult3    485490 non-null float64\n",
      "MathResult4    485490 non-null float64\n",
      "MathResult5    485490 non-null float64\n",
      "dtypes: float64(10), object(25)\n",
      "memory usage: 129.6+ MB\n"
     ]
    }
   ],
   "source": [
    "df.info()"
   ]
  },
  {
   "cell_type": "code",
   "execution_count": 48,
   "metadata": {},
   "outputs": [
    {
     "data": {
      "text/plain": [
       "66"
      ]
     },
     "execution_count": 48,
     "metadata": {},
     "output_type": "execute_result"
    }
   ],
   "source": [
    "df.NC.nunique()"
   ]
  },
  {
   "cell_type": "markdown",
   "metadata": {},
   "source": [
    "### Structure of data:\n",
    "The table has data entries for 485490 students of 66 countries. It has numerical values for example for the test scores as well as ordinal categorical values like the attitude towards school.\n",
    "\n",
    "### Main dataset features:\n",
    "\n",
    "The main dataset features are the grades which are the outcomes of most or all other columns.\n",
    "\n",
    "### What features in the dataset do you think will help support your investigation into your feature(s) of interest?\n",
    "\n",
    "Because the original dataset has over 600 columns, I reduced it to the columns with general inforamtion like age and country aswell as more specific columns related to the parents and situation at home of the student."
   ]
  },
  {
   "cell_type": "markdown",
   "metadata": {},
   "source": [
    "## Univariate Exploration\n"
   ]
  },
  {
   "cell_type": "markdown",
   "metadata": {},
   "source": [
    "OUTHOURS describes the hours a student works outside of school. The histogram is heavily skewed to the right with a maximum score of 180. 180 hours per week would mean 25.7 hours of work outside of scool per day, which is not possible."
   ]
  },
  {
   "cell_type": "code",
   "execution_count": 78,
   "metadata": {},
   "outputs": [
    {
     "data": {
      "image/png": "[encoded data removed]",
      "text/plain": [
       "<Figure size 576x360 with 1 Axes>"
      ]
     },
     "metadata": {
      "needs_background": "light"
     },
     "output_type": "display_data"
    }
   ],
   "source": [
    "\n",
    "binsize = 5\n",
    "bins = np.arange(0, df['OUTHOURS'].max()+binsize, binsize)\n",
    "\n",
    "plt.figure(figsize=[8, 5])\n",
    "plt.hist(data = df, x = 'OUTHOURS', bins = bins)\n",
    "plt.xlabel('Hours of homework outside of school per week')\n",
    "plt.show()"
   ]
  },
  {
   "cell_type": "code",
   "execution_count": 44,
   "metadata": {},
   "outputs": [
    {
     "data": {
      "text/plain": [
       "count    308799.000000\n",
       "mean         11.104100\n",
       "std          10.476669\n",
       "min           0.000000\n",
       "25%           4.000000\n",
       "50%           8.000000\n",
       "75%          14.000000\n",
       "max         180.000000\n",
       "Name: OUTHOURS, dtype: float64"
      ]
     },
     "execution_count": 44,
     "metadata": {},
     "output_type": "execute_result"
    }
   ],
   "source": [
    "df.OUTHOURS.describe()"
   ]
  },
  {
   "cell_type": "code",
   "execution_count": 82,
   "metadata": {},
   "outputs": [
    {
     "data": {
      "image/png": "[encoded data removed]",
      "text/plain": [
       "<Figure size 576x360 with 1 Axes>"
      ]
     },
     "metadata": {
      "needs_background": "light"
     },
     "output_type": "display_data"
    }
   ],
   "source": [
    "# With 16 waking hours 12 hours per day is set as the absolute maximum possible amount of time.\n",
    "\n",
    "binsize = 2\n",
    "bins = np.arange(0, 7*12+binsize, binsize)\n",
    "\n",
    "plt.figure(figsize=[8, 5])\n",
    "plt.hist(data = df, x = 'OUTHOURS', bins = bins)\n",
    "plt.xlabel('Hours of homework outside of school per week')\n",
    "plt.show()"
   ]
  },
  {
   "cell_type": "markdown",
   "metadata": {},
   "source": [
    "There is a peak aroung 8 hours of extra work outside of school per week with a few students working much more.\n"
   ]
  },
  {
   "cell_type": "code",
   "execution_count": 108,
   "metadata": {},
   "outputs": [
    {
     "data": {
      "image/png": "[encoded data removed]",
      "text/plain": [
       "<Figure size 576x360 with 1 Axes>"
      ]
     },
     "metadata": {
      "needs_background": "light"
     },
     "output_type": "display_data"
    }
   ],
   "source": [
    "# there's a long tail in the distribution, so let's put it on a log scale instead\n",
    "df_adj = df.copy()\n",
    "# there are a lot of 0 values which are difficult to deal with in a log transformation so we add 0.01 hours for every student\n",
    "df_adj.OUTHOURS += 1\n",
    "df_adj.OUTHOURS.dropna(inplace = True)\n",
    "\n",
    "\n",
    "binsize = 2\n",
    "bins = np.arange(0, 7*12+binsize, binsize)\n",
    "\n",
    "log_binsize = 0.2\n",
    "bins = 10 ** np.arange(0, np.log10(72)+log_binsize, log_binsize)\n",
    "\n",
    "plt.figure(figsize=[8, 5])\n",
    "plt.hist(data = df_adj, x = 'OUTHOURS', bins = bins)\n",
    "plt.xscale(\"log\")\n",
    "plt.xlabel('Hours of homework outside of school per week')\n",
    "plt.show()\n"
   ]
  },
  {
   "cell_type": "markdown",
   "metadata": {},
   "source": [
    "The logscale of the x-axis revealed a univarete distribution after the transformation. There were no hidden second peaks.\n",
    "\n",
    "It would be interesting to see how amount of work outside of school and grades compare. Therefore the test scores are investigated next."
   ]
  },
  {
   "cell_type": "markdown",
   "metadata": {},
   "source": [
    "### Discuss the distribution(s) of your variable(s) of interest. Were there any unusual points? Did you need to perform any transformations?\n",
    "\n",
    "> Your answer here!\n",
    "\n",
    "### Of the features you investigated, were there any unusual distributions? Did you perform any operations on the data to tidy, adjust, or change the form of the data? If so, why did you do this?\n",
    "\n",
    "> Your answer here!"
   ]
  },
  {
   "cell_type": "markdown",
   "metadata": {},
   "source": [
    "## Bivariate Exploration\n",
    "\n",
    "> In this section, investigate relationships between pairs of variables in your\n",
    "data. Make sure the variables that you cover here have been introduced in some\n",
    "fashion in the previous section (univariate exploration)."
   ]
  },
  {
   "cell_type": "code",
   "execution_count": null,
   "metadata": {},
   "outputs": [],
   "source": []
  },
  {
   "cell_type": "markdown",
   "metadata": {},
   "source": [
    "### Talk about some of the relationships you observed in this part of the investigation. How did the feature(s) of interest vary with other features in the dataset?\n",
    "\n",
    "> Your answer here!\n",
    "\n",
    "### Did you observe any interesting relationships between the other features (not the main feature(s) of interest)?\n",
    "\n",
    "> Your answer here!"
   ]
  },
  {
   "cell_type": "markdown",
   "metadata": {},
   "source": [
    "## Multivariate Exploration\n",
    "\n",
    "> Create plots of three or more variables to investigate your data even\n",
    "further. Make sure that your investigations are justified, and follow from\n",
    "your work in the previous sections."
   ]
  },
  {
   "cell_type": "code",
   "execution_count": null,
   "metadata": {},
   "outputs": [],
   "source": []
  },
  {
   "cell_type": "markdown",
   "metadata": {},
   "source": [
    "### Talk about some of the relationships you observed in this part of the investigation. Were there features that strengthened each other in terms of looking at your feature(s) of interest?\n",
    "\n",
    "> Your answer here!\n",
    "\n",
    "### Were there any interesting or surprising interactions between features?\n",
    "\n",
    "> Your answer here!"
   ]
  },
  {
   "cell_type": "markdown",
   "metadata": {},
   "source": [
    "> At the end of your report, make sure that you export the notebook as an\n",
    "html file from the `File > Download as... > HTML` menu. Make sure you keep\n",
    "track of where the exported file goes, so you can put it in the same folder\n",
    "as this notebook for project submission. Also, make sure you remove all of\n",
    "the quote-formatted guide notes like this one before you finish your report!"
   ]
  },
  {
   "cell_type": "code",
   "execution_count": null,
   "metadata": {},
   "outputs": [],
   "source": []
  }
 ],
 "metadata": {
  "kernelspec": {
   "display_name": "Python 3",
   "language": "python",
   "name": "python3"
  },
  "language_info": {
   "codemirror_mode": {
    "name": "ipython",
    "version": 3
   },
   "file_extension": ".py",
   "mimetype": "text/x-python",
   "name": "python",
   "nbconvert_exporter": "python",
   "pygments_lexer": "ipython3",
   "version": "3.7.6"
  }
 },
 "nbformat": 4,
 "nbformat_minor": 2
}
